{
 "cells": [
  {
   "cell_type": "markdown",
   "metadata": {},
   "source": [
    "# Basic Information\n",
    "\n",
    "- DataSet Name: Spotify top 50 songs in 2021\n",
    "\n",
    "- Download URL: The dataset is available at [Kaggle](https://www.kaggle.com/datasets/equinxx/spotify-top-50-songs-in-2021/download?datasetVersionNumber=3)\n",
    "\n",
    "- License: The dataset is free for public use with no restrictions.\n",
    "\n",
    "- Dataset File Size: 4kB with 50 rows of the top 50 songs in 2021\n",
    "\n"
   ]
  },
  {
   "cell_type": "markdown",
   "metadata": {},
   "source": [
    "# Dataset Description\n",
    "\n",
    "This dataset contains information on the 50 most popular songs on Spotify in 2021. It includes 14 descriptive variables for each song, such as popularity, danceability, energy, key, loudness, mode, speechiness, acousticness, instrumentalness, liveness, valence, tempo, duration, and time signature. These variables provide insight into the characteristics of the songs that make them popular among listeners. \n",
    "\n",
    "The dataset can be used for various analyses, such as identifying patterns in popular songs, understanding the features that make a song successful. For this project, we will try to present the analysis via visulizations."
   ]
  },
  {
   "cell_type": "code",
   "execution_count": null,
   "metadata": {},
   "outputs": [],
   "source": [
    "import pandas as pd\n",
    "import numpy as np\n",
    "import seaborn as sns\n",
    "import matplotlib.pyplot as plt\n",
    "from pyecharts import options as opts\n",
    "from pyecharts.charts import Pie"
   ]
  },
  {
   "cell_type": "code",
   "execution_count": null,
   "metadata": {},
   "outputs": [],
   "source": [
    "file_name = 'C:/Users/17164/OneDrive/Desktop/spotify_top50_2021.csv'"
   ]
  },
  {
   "cell_type": "code",
   "execution_count": null,
   "metadata": {},
   "outputs": [],
   "source": [
    "df = pd.read_csv(file_name, index_col=0)\n",
    "df.head()"
   ]
  },
  {
   "cell_type": "markdown",
   "metadata": {},
   "source": [
    "Check data columns and the corresponding types."
   ]
  },
  {
   "cell_type": "code",
   "execution_count": null,
   "metadata": {},
   "outputs": [],
   "source": [
    "df.info()"
   ]
  },
  {
   "cell_type": "markdown",
   "metadata": {},
   "source": [
    "## 1. Who is the most popular artist in the dataset?\n",
    "\n",
    "To determine the most popular artist in the Spotify Top 50 songs dataset, we can create a bar chart of the counts of each artist. We can use seaborn library to draw the barplot and show the result."
   ]
  },
  {
   "cell_type": "code",
   "execution_count": null,
   "metadata": {},
   "outputs": [],
   "source": [
    "plt.figure(figsize=(14, 8))\n",
    "artist_counts = df[\"artist_name\"].value_counts()\n",
    "\n",
    "sns.barplot(x=artist_counts.values, y=artist_counts.index)\n",
    "\n",
    "plt.title(\"Spotify Top 50 Songs by Artist\")\n",
    "plt.xlabel(\"Number of Songs\")\n",
    "plt.ylabel(\"Artist Name\")\n",
    "\n",
    "plt.show()"
   ]
  },
  {
   "cell_type": "markdown",
   "metadata": {},
   "source": [
    "## 2. How danceability influences its popularity?\n",
    "We can use scatter plot by seaborn regplot to show the relationship between two variables."
   ]
  },
  {
   "cell_type": "code",
   "execution_count": null,
   "metadata": {
    "scrolled": true
   },
   "outputs": [],
   "source": [
    "plt.figure(figsize=(14, 8))\n",
    "sns.regplot(data=df, x=\"danceability\", y=\"popularity\")\n",
    "\n",
    "plt.title(\"Danceability vs Popularity\")"
   ]
  },
  {
   "cell_type": "markdown",
   "metadata": {},
   "source": [
    "## 3. What is the correlation among features?\n",
    "\n",
    "Use seaborn heatmap to show the correlation matrix of the dataframe. The result shows the correlation between each pair of the columns."
   ]
  },
  {
   "cell_type": "code",
   "execution_count": null,
   "metadata": {},
   "outputs": [],
   "source": [
    "plt.figure(figsize=(20,10))\n",
    "sns.heatmap(df.corr(), annot=True, fmt='.2f')\n"
   ]
  },
  {
   "cell_type": "code",
   "execution_count": null,
   "metadata": {},
   "outputs": [],
   "source": []
  }
 ],
 "metadata": {
  "kernelspec": {
   "display_name": "Python 3 (ipykernel)",
   "language": "python",
   "name": "python3"
  },
  "language_info": {
   "codemirror_mode": {
    "name": "ipython",
    "version": 3
   },
   "file_extension": ".py",
   "mimetype": "text/x-python",
   "name": "python",
   "nbconvert_exporter": "python",
   "pygments_lexer": "ipython3",
   "version": "3.9.13"
  }
 },
 "nbformat": 4,
 "nbformat_minor": 2
}
