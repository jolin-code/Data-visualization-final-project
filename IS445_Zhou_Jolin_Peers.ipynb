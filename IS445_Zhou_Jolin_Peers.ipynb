{
 "cells": [
  {
   "cell_type": "code",
   "execution_count": null,
   "metadata": {},
   "outputs": [],
   "source": [
    "!pip install pyecharts\n",
    "import pandas as pd\n",
    "import numpy as np\n",
    "import seaborn as sns\n",
    "import matplotlib.pyplot as plt\n",
    "from pyecharts import options as opts\n",
    "from pyecharts.charts import Pie"
   ]
  },
  {
   "cell_type": "code",
   "execution_count": null,
   "metadata": {},
   "outputs": [],
   "source": [
    "file_name = 'C:/Users/17164/OneDrive/Desktop/spotify_top50_2021.csv'"
   ]
  },
  {
   "cell_type": "code",
   "execution_count": null,
   "metadata": {},
   "outputs": [],
   "source": [
    "df = pd.read_csv(file_name, index_col=0)"
   ]
  },
  {
   "cell_type": "markdown",
   "metadata": {},
   "source": [
    "## 1. What is the correlation among features?\n",
    "\n",
    "Use seaborn heatmap to show the correlation matrix of the dataframe. But this time, we will show only half of the matrix due to the symmetric nature of correlations."
   ]
  },
  {
   "cell_type": "code",
   "execution_count": null,
   "metadata": {},
   "outputs": [],
   "source": [
    "plt.figure(figsize=(16, 12))\n",
    "sns.set(style='white')\n",
    "\n",
    "corr = df.corr()\n",
    "\n",
    "mask = np.triu(np.ones_like(corr, dtype=bool))\n",
    "\n",
    "cmap = sns.diverging_palette(230, 20, as_cmap=True)\n",
    "\n",
    "sns.heatmap(corr, mask=mask, cmap=cmap, vmax=.3, center=0, square=True, linewidths=.5, cbar_kws={\"shrink\": .5}, annot=True)\n",
    "\n",
    "plt.title(\"Correlation Heatmap of Spotify Top 50 Songs in 2021\")\n",
    "plt.show()"
   ]
  },
  {
   "cell_type": "markdown",
   "metadata": {},
   "source": [
    "## 2. How factors influence popularity?\n",
    "\n",
    "We still use sns scatter plot and regplot to show the relationships between popularity and danceability. But this time, we add more features such as accusticness and liveness, to show in one chart to reveal more information about the influence factor of popularity."
   ]
  },
  {
   "cell_type": "code",
   "execution_count": null,
   "metadata": {},
   "outputs": [],
   "source": [
    "plt.figure(figsize=(14, 8))\n",
    "\n",
    "# Scatter plot with different colors for acousticness and liveness\n",
    "sns.scatterplot(data=df, x='danceability', y='popularity', hue='acousticness',\n",
    "                size='liveness', sizes=(20, 400), palette='viridis')\n",
    "sns.regplot(data=df, x=\"danceability\", y=\"popularity\")\n",
    "\n",
    "plt.xlabel('Danceability')\n",
    "plt.ylabel('Popularity')\n",
    "plt.title('Characteristics of Top 50 Songs in 2021', fontsize=16)\n",
    "plt.legend(loc='upper right', bbox_to_anchor=(1.25, 1))\n",
    "plt.show()"
   ]
  },
  {
   "cell_type": "markdown",
   "metadata": {},
   "source": [
    "## 3. How is the songs distributed by key.\n",
    "The key the track is in. Integers map to pitches using standard Pitch Class notation. E.g. 0 = C, 1 = C♯/D♭, 2 = D, and so on. We can use the Pyecharts module to create a donut chart that displays the percentage of songs for each key. The donut chart can be helpful to visualize the distribution of songs by key, and identify any patterns or trends in the data."
   ]
  },
  {
   "cell_type": "code",
   "execution_count": null,
   "metadata": {},
   "outputs": [],
   "source": [
    "key_counts = df.groupby(\"key\").agg({\"track_id\": \"count\", \"popularity\": \"sum\"})\n",
    "\n",
    "key_counts[\"percentage\"] = key_counts[\"track_id\"]*100 / key_counts[\"track_id\"].sum()\n",
    "\n",
    "donut_chart = (\n",
    "    Pie()\n",
    "    .add(\n",
    "        \"Percentage\",\n",
    "        list(zip(key_counts.index.astype(str), key_counts[\"percentage\"])),\n",
    "        radius=[\"20%\", \"70%\"],\n",
    "        label_opts=opts.LabelOpts(position=\"outside\", formatter=\"{b}: {c}%\"),\n",
    "    )\n",
    "    .set_global_opts(\n",
    "        title_opts=opts.TitleOpts(title=\"Spotify Top 50 Songs by Key\"),\n",
    "        legend_opts=opts.LegendOpts(pos_bottom=\"0%\")\n",
    "    )\n",
    ")\n",
    "\n",
    "donut_chart.render_notebook()"
   ]
  },
  {
   "cell_type": "code",
   "execution_count": null,
   "metadata": {},
   "outputs": [],
   "source": []
  }
 ],
 "metadata": {
  "kernelspec": {
   "display_name": "Python 3 (ipykernel)",
   "language": "python",
   "name": "python3"
  },
  "language_info": {
   "codemirror_mode": {
    "name": "ipython",
    "version": 3
   },
   "file_extension": ".py",
   "mimetype": "text/x-python",
   "name": "python",
   "nbconvert_exporter": "python",
   "pygments_lexer": "ipython3",
   "version": "3.9.13"
  }
 },
 "nbformat": 4,
 "nbformat_minor": 2
}
