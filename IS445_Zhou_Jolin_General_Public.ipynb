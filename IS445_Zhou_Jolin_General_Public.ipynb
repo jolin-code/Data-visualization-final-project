{
 "cells": [
  {
   "cell_type": "code",
   "execution_count": null,
   "metadata": {},
   "outputs": [],
   "source": [
    "!pip install pyecharts\n",
    "import pandas as pd\n",
    "from pyecharts import options as opts\n",
    "from pyecharts.charts import Radar\n",
    "from pyecharts.globals import ThemeType\n",
    "import seaborn as sns\n",
    "import matplotlib.pyplot as plt"
   ]
  },
  {
   "cell_type": "code",
   "execution_count": null,
   "metadata": {},
   "outputs": [],
   "source": [
    "file_name = 'C:/Users/17164/OneDrive/Desktop/spotify_top50_2021.csv'"
   ]
  },
  {
   "cell_type": "code",
   "execution_count": null,
   "metadata": {},
   "outputs": [],
   "source": [
    "df = pd.read_csv(file_name, index_col=0)"
   ]
  },
  {
   "cell_type": "markdown",
   "metadata": {},
   "source": [
    "## 1. Who are the top 10 artist in the dataset?\n",
    "\n",
    "To determine the top 10 artists in the Spotify Top 50 songs dataset, we can create a bar chart that displays the number of songs for each artist, sorted in descending order. This will allow us to quickly identify the artists with the highest number of songs in the dataset."
   ]
  },
  {
   "cell_type": "code",
   "execution_count": null,
   "metadata": {},
   "outputs": [],
   "source": [
    "plt.figure(figsize=(14, 8))\n",
    "# sns.set(style='whitegrid')\n",
    "\n",
    "# Get the top 10 artists with the most songs in the top 50\n",
    "top_artists = df['artist_name'].value_counts().head(10)\n",
    "\n",
    "# Generate the bar chart\n",
    "sns.barplot(x=top_artists.index, y=top_artists.values, palette='viridis')\n",
    "\n",
    "# Customize the chart\n",
    "plt.title(\"Top 10 Artists in Spotify's Top 50 Songs in 2021\")\n",
    "plt.ylabel('Number of Songs in Top 50')\n",
    "plt.xlabel('Artist')\n",
    "\n",
    "# Rotate x-axis labels for better readability\n",
    "plt.xticks(rotation=45)\n",
    "\n",
    "plt.show()"
   ]
  },
  {
   "cell_type": "markdown",
   "metadata": {},
   "source": [
    "## 2. Top 10 artists by popularity and characteristics.\n",
    "\n",
    "Here, we show the top 10 artists in the Spotify Top 50 songs dataset by popularity in bar chart. And in the same chart, also include characteristics such as the danceability and energy values for each song by artist. This will allow us to compare the characteristics of songs by each artist."
   ]
  },
  {
   "cell_type": "code",
   "execution_count": null,
   "metadata": {},
   "outputs": [],
   "source": [
    "artist_df = df.groupby('artist_name', as_index=False).agg(\n",
    "    {'popularity': 'mean', 'danceability': 'mean', 'energy': 'mean'})\n",
    "\n",
    "# Sort by popularity and select top 10\n",
    "artist_df = artist_df.sort_values('popularity', ascending=False).head(10)\n",
    "\n",
    "# Create bar chart\n",
    "fig, ax = plt.subplots(figsize=(14, 8))\n",
    "ax.bar(artist_df['artist_name'], artist_df['popularity'], color='#136ff0')\n",
    "ax.set_xlabel('Artist')\n",
    "ax.set_xticks(range(len(artist_df)))\n",
    "ax.set_xticklabels(artist_df['artist_name'], rotation=45)\n",
    "ax.set_ylabel('Popularity')\n",
    "ax.set_title('Top 10 Spotify Artists in 2021', fontsize=16)\n",
    "\n",
    "# Create twin axis for danceability and energy\n",
    "ax2 = ax.twinx()\n",
    "ax2.plot(artist_df['artist_name'], artist_df['danceability'],\n",
    "         color='#FFC107', marker='o', markersize=10, label='Danceability')\n",
    "ax2.plot(artist_df['artist_name'], artist_df['energy'],\n",
    "         color='#FF5722', marker='s', markersize=10, label='Energy')\n",
    "ax2.set_ylim([0, 1])\n",
    "ax2.set_ylabel('Score')\n",
    "ax2.legend(loc='upper right')\n",
    "\n",
    "plt.show()"
   ]
  },
  {
   "cell_type": "markdown",
   "metadata": {},
   "source": [
    "## 3. How are the overall characteristics of the songs?\n",
    "We will use a radar chart to show the overall characteristics of the songs in the Spotify Top 50 songs dataset. We create a radar chart that displays the values of several characteristics for each song. The characteristics we will consider are danceability, energy, speechiness, acousticness, and valence."
   ]
  },
  {
   "cell_type": "code",
   "execution_count": null,
   "metadata": {},
   "outputs": [],
   "source": [
    "# Normalize the data\n",
    "columns = ['danceability', 'energy', 'speechiness', 'acousticness', 'valence']\n",
    "stat_df = df[columns].apply(lambda x: (x - x.min()) / (x.max() - x.min()))\n",
    "# Take means\n",
    "stat_df = stat_df.mean()\n",
    "\n",
    "# Show overall statistics in radar chart\n",
    "radar = (\n",
    "    Radar(init_opts=opts.InitOpts(theme=ThemeType.CHALK))\n",
    "    .add_schema(\n",
    "        schema=[\n",
    "            opts.RadarIndicatorItem(name='Danceability', max_=1),\n",
    "            opts.RadarIndicatorItem(name='Energy', max_=1),\n",
    "            opts.RadarIndicatorItem(name='Speechiness', max_=1),\n",
    "            opts.RadarIndicatorItem(name='Acousticness', max_=1),\n",
    "            opts.RadarIndicatorItem(name='Valence', max_=1)\n",
    "        ]\n",
    "    )\n",
    "    .add(\n",
    "        series_name='Characteristics',\n",
    "        data=[[round(v, 2) for v in stat_df.values.tolist()]],\n",
    "        areastyle_opts=opts.AreaStyleOpts(opacity=0.5),\n",
    "        linestyle_opts=opts.LineStyleOpts(width=2),\n",
    "        label_opts=opts.LabelOpts(is_show=True)\n",
    "    )\n",
    "    .set_series_opts(\n",
    "        itemstyle_opts={\n",
    "            'normal': {\n",
    "                'color': '#FF9F7D'\n",
    "            }\n",
    "        }\n",
    "    )\n",
    "    .set_global_opts(\n",
    "        title_opts=opts.TitleOpts(\n",
    "            title='Spotify Top 50 Songs in 2021', subtitle='Overall Statistics'),\n",
    "        legend_opts=opts.LegendOpts(\n",
    "            type_='scroll', pos_left='5%', pos_bottom='5%')\n",
    "    )\n",
    ")\n",
    "\n",
    "radar.render_notebook()"
   ]
  },
  {
   "cell_type": "code",
   "execution_count": null,
   "metadata": {},
   "outputs": [],
   "source": []
  },
  {
   "cell_type": "code",
   "execution_count": null,
   "metadata": {},
   "outputs": [],
   "source": []
  }
 ],
 "metadata": {
  "kernelspec": {
   "display_name": "Python 3 (ipykernel)",
   "language": "python",
   "name": "python3"
  },
  "language_info": {
   "codemirror_mode": {
    "name": "ipython",
    "version": 3
   },
   "file_extension": ".py",
   "mimetype": "text/x-python",
   "name": "python",
   "nbconvert_exporter": "python",
   "pygments_lexer": "ipython3",
   "version": "3.9.13"
  }
 },
 "nbformat": 4,
 "nbformat_minor": 2
}
